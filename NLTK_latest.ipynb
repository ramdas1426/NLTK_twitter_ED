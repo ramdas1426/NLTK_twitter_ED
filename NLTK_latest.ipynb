{
 "cells": [
  {
   "cell_type": "code",
   "execution_count": 1,
   "metadata": {
    "collapsed": true
   },
   "outputs": [],
   "source": [
    "import nltk as nt\n",
    "import numpy as np\n",
    "import pandas as pd"
   ]
  },
  {
   "cell_type": "code",
   "execution_count": 2,
   "metadata": {
    "collapsed": true
   },
   "outputs": [],
   "source": [
    "complete_array = [\"CC\",\"CD\",\"DT\",\"EX\",\"IN\",\"JJ\",\"JJR\",\"JJS\",\"LS\",\"MD\",\"NN\",\"NNP\",\"NNS\",\"PDT\",\"POS\",\"PRP\",\"PRP$\",\"RB\",\"RBR\",\"RBS\",\"RP\",\"TO\",\"UH\",\"VB\",\"VBD\",\"VBG\",\"VBN\",\"VBP\",\"VBZ\",\"WDT\",\"WP\",\"WRB\"]\n",
    "noun_phrase_array = [\"NN\",\"NNP\",\"NNS\",\"PRP\",\"POS\",\"WP\"]\n",
    "verb_phrase_array = [\"RB\",\"RBR\",\"RBS\",\"VB\",\"VBD\",\"VBG\",\"VBN\",\"VBP\",\"VBZ\",\"WRB\"]\n",
    "det_phrase_array = [\"DT\",\"PDT\",\"WDT\",\"PRP$\"]"
   ]
  },
  {
   "cell_type": "code",
   "execution_count": 11,
   "metadata": {
    "collapsed": true
   },
   "outputs": [],
   "source": [
    "def sent_struct(string):\n",
    "    sent = string\n",
    "    try:\n",
    "        a = nt.word_tokenize(sent)\n",
    "        s = nt.pos_tag(a)\n",
    "        return s\n",
    "    except:\n",
    "        return 'This string has a smiley!!'"
   ]
  },
  {
   "cell_type": "code",
   "execution_count": 12,
   "metadata": {
    "collapsed": false
   },
   "outputs": [],
   "source": [
    "def s_line(sent):\n",
    "    words = sent.split()\n",
    "    structs = sent_struct(sent)\n",
    "    string = 'S -> '\n",
    "    ncount,vcount = 0,0\n",
    "    for struct in structs:\n",
    "        for each in noun_phrase_array:\n",
    "            if(struct[1] == each):\n",
    "                ncount += 1\n",
    "            else:\n",
    "                continue\n",
    "        for each in verb_phrase_array:\n",
    "            if(struct[1] == each):\n",
    "                vcount += 1\n",
    "            else:\n",
    "                continue\n",
    "    if(ncount > 0 and vcount > 0):\n",
    "        string = string + 'NP VP'\n",
    "    elif(ncount > 0 and vcount == 0):\n",
    "        string = string  + 'NP'\n",
    "    elif(ncount == 0 and vcount > 0):\n",
    "        string = string  + 'VP'\n",
    "    elif(ncount == 0 and vcount == 0):\n",
    "        string = None\n",
    "    return string,ncount,vcount"
   ]
  },
  {
   "cell_type": "code",
   "execution_count": 13,
   "metadata": {
    "collapsed": true
   },
   "outputs": [],
   "source": [
    "def p_line(sent):\n",
    "    words = sent.split()\n",
    "    structs= sent_struct(sent)\n",
    "    string = 'PP -> '\n",
    "    pcount = 0\n",
    "    for struct in structs:\n",
    "        if(struct[1] == 'IN'):\n",
    "            pcount += 1\n",
    "        else:\n",
    "            continue\n",
    "    if(pcount > 0):\n",
    "        string += 'P NP'\n",
    "    else:\n",
    "        string = None\n",
    "    return string,pcount"
   ]
  },
  {
   "cell_type": "code",
   "execution_count": 14,
   "metadata": {
    "collapsed": true
   },
   "outputs": [],
   "source": [
    "def np_line(sent):\n",
    "    words = sent.split()\n",
    "    structs= sent_struct(sent)\n",
    "    string = 'NP -> '\n",
    "    dcount,icount = 0,0\n",
    "    for struct in structs:\n",
    "        for each in det_phrase_array:\n",
    "            if(struct[1] == each):\n",
    "                dcount += 1\n",
    "            else:\n",
    "                continue\n",
    "        if(struct[0] == 'I' or struct[0] == 'i'):\n",
    "            icount += 1\n",
    "        else:\n",
    "            continue\n",
    "    if(dcount > 0 and icount > 0):\n",
    "        string = string + \"\"\"Det N | NP PP | 'I'\"\"\"\n",
    "    elif(dcount > 0 and icount == 0):\n",
    "        string = string  + 'Det N | NP PP'\n",
    "    elif(dcount == 0 and icount > 0):\n",
    "        string = string  + \"\"\"'I'\"\"\"\n",
    "    elif(dcount == 0 and icount == 0):\n",
    "        string = None\n",
    "    return string,dcount,icount"
   ]
  },
  {
   "cell_type": "code",
   "execution_count": 15,
   "metadata": {
    "collapsed": true
   },
   "outputs": [],
   "source": [
    "def vp_line(sent):\n",
    "    pcount = p_line(sent)[1]\n",
    "    temp_string = s_line(sent)\n",
    "    string = 'VP -> '\n",
    "    if(temp_string != None and pcount != 0):\n",
    "        string += 'V NP | VP PP'\n",
    "    elif(temp_string == None and pcount != 0):\n",
    "        string += 'VP PP'\n",
    "    elif(temp_string != None and pcount == 0):\n",
    "        string += 'V NP'\n",
    "    elif(temp_string == None and pcount == 0):\n",
    "        string = None\n",
    "    return string"
   ]
  },
  {
   "cell_type": "code",
   "execution_count": 16,
   "metadata": {
    "collapsed": true
   },
   "outputs": [],
   "source": [
    "def Det(sent):\n",
    "    structs= sent_struct(sent)\n",
    "    string = 'Det ->'\n",
    "    for struct in structs:\n",
    "        for each in det_phrase_array:\n",
    "            if(struct[1] == each):\n",
    "                string += \" \" + \"'\" + struct[0] + \"'\" + \"|\"\n",
    "            else:\n",
    "                continue\n",
    "    return string.strip(\"|\")\n",
    "\n",
    "def N(sent):\n",
    "    structs= sent_struct(sent)\n",
    "    string = 'N ->'\n",
    "    for struct in structs:\n",
    "        for each in noun_phrase_array:\n",
    "            if(struct[1] == each and struct[0] != 'I'):\n",
    "                string += \" \" + \"'\" + struct[0] + \"'\" + \"|\"\n",
    "            else:\n",
    "                continue\n",
    "    return string.strip(\"|\")\n",
    "\n",
    "def V(sent):\n",
    "    structs= sent_struct(sent)\n",
    "    string = 'V ->'\n",
    "    for struct in structs:\n",
    "        for each in verb_phrase_array:\n",
    "            if(struct[1] == each):\n",
    "                string += \" \" + \"'\" + struct[0] + \"'\" + \"|\"\n",
    "            else:\n",
    "                continue\n",
    "    return string.strip(\"|\")\n",
    "\n",
    "def P(sent):\n",
    "    structs= sent_struct(sent)\n",
    "    string = 'P ->'\n",
    "    for struct in structs:\n",
    "        if(struct[1] == \"IN\"):\n",
    "            string += \" \" + \"'\" + struct[0] + \"'\" + \"|\"\n",
    "        else:\n",
    "            continue\n",
    "    return string.strip(\"|\")\n",
    "    "
   ]
  },
  {
   "cell_type": "code",
   "execution_count": 17,
   "metadata": {
    "collapsed": false
   },
   "outputs": [
    {
     "data": {
      "text/plain": [
       "[('No', 'DT'),\n",
       " ('smoking', 'NN'),\n",
       " ('area', 'NN'),\n",
       " ('allow', 'VBP'),\n",
       " ('hookas', 'NN'),\n",
       " ('inside', 'IN')]"
      ]
     },
     "execution_count": 17,
     "metadata": {},
     "output_type": "execute_result"
    }
   ],
   "source": [
    "sent_struct(sent)"
   ]
  },
  {
   "cell_type": "code",
   "execution_count": 18,
   "metadata": {
    "collapsed": false
   },
   "outputs": [
    {
     "data": {
      "text/plain": [
       "('S -> NP VP', 'PP -> P NP', 'NP -> Det N | NP PP', 'VP -> V NP | VP PP')"
      ]
     },
     "execution_count": 18,
     "metadata": {},
     "output_type": "execute_result"
    }
   ],
   "source": [
    "s_line(sent)[0],p_line(sent)[0],np_line(sent)[0],vp_line(sent)"
   ]
  },
  {
   "cell_type": "code",
   "execution_count": 19,
   "metadata": {
    "collapsed": false
   },
   "outputs": [
    {
     "data": {
      "text/plain": [
       "(\"Det -> 'No'\",\n",
       " \"N -> 'smoking'| 'area'| 'hookas'\",\n",
       " \"V -> 'allow'\",\n",
       " \"P -> 'inside'\")"
      ]
     },
     "execution_count": 19,
     "metadata": {},
     "output_type": "execute_result"
    }
   ],
   "source": [
    "Det(sent),N(sent),V(sent),P(sent)"
   ]
  },
  {
   "cell_type": "code",
   "execution_count": 20,
   "metadata": {
    "collapsed": false
   },
   "outputs": [],
   "source": [
    "def grammar(sent):\n",
    "    return \"\"\"\n",
    "    {a}\n",
    "    {b}\n",
    "    {c}\n",
    "    {d}\n",
    "    {e}\n",
    "    {f}\n",
    "    {g}\n",
    "    {h}\n",
    "    \"\"\".format(\n",
    "        a=s_line(sent)[0],b=p_line(sent)[0],c=np_line(sent)[0],d=vp_line(sent),e=Det(sent),f=N(sent),g=V(sent),h=P(sent))"
   ]
  },
  {
   "cell_type": "code",
   "execution_count": 21,
   "metadata": {
    "collapsed": false
   },
   "outputs": [
    {
     "data": {
      "text/plain": [
       "\"\\n    S -> NP VP\\n    PP -> P NP\\n    NP -> Det N | NP PP\\n    VP -> V NP | VP PP\\n    Det -> 'No'\\n    N -> 'smoking'| 'area'| 'hookas'\\n    V -> 'allow'\\n    P -> 'inside'\\n    \""
      ]
     },
     "execution_count": 21,
     "metadata": {},
     "output_type": "execute_result"
    }
   ],
   "source": [
    "grammar(sent)"
   ]
  },
  {
   "cell_type": "code",
   "execution_count": 37,
   "metadata": {
    "collapsed": false
   },
   "outputs": [
    {
     "name": "stdout",
     "output_type": "stream",
     "text": [
      "(S\n",
      "  (NP I)\n",
      "  (VP\n",
      "    (VP (V lifted) (NP (Det an) (N elephant)))\n",
      "    (PP (P with) (NP (Det a) (N hand)))))\n",
      "(S\n",
      "  (NP I)\n",
      "  (VP\n",
      "    (V lifted)\n",
      "    (NP\n",
      "      (NP (Det an) (N elephant))\n",
      "      (PP (P with) (NP (Det a) (N hand))))))\n"
     ]
    }
   ],
   "source": [
    "array_sent = sent1.split()\n",
    "groucho_grammar = nt.CFG.fromstring(grammar(sent1))\n",
    "parser = nt.ChartParser(groucho_grammar)\n",
    "parser.parse(array_sent)\n",
    "for tree in parser.parse(array_sent):\n",
    "    print(tree)"
   ]
  },
  {
   "cell_type": "code",
   "execution_count": 23,
   "metadata": {
    "collapsed": false
   },
   "outputs": [],
   "source": [
    "import nltk as nt\n",
    "import numpy as np\n",
    "import pandas as pd\n",
    "\n",
    "a =[]\n",
    "s =[]\n",
    "\n",
    "def bag_of_words(path):\n",
    "    csv = pd.read_csv(path,index_col=0)\n",
    "    df = pd.DataFrame(csv)\n",
    "    text_array = df.loc[:,'text']\n",
    "    numpy_text_array = text_array.as_matrix()\n",
    "    for i in range(len(numpy_text_array)):\n",
    "        try:\n",
    "            a = nt.word_tokenize(numpy_text_array[i])\n",
    "            s += nt.pos_tag(a)\n",
    "        except:\n",
    "            continue;\n",
    "    return s"
   ]
  },
  {
   "cell_type": "code",
   "execution_count": 24,
   "metadata": {
    "collapsed": true
   },
   "outputs": [],
   "source": [
    "path = \"C:/Users/ramda/Desktop/csv changed.csv\""
   ]
  },
  {
   "cell_type": "code",
   "execution_count": 25,
   "metadata": {
    "collapsed": false
   },
   "outputs": [],
   "source": [
    "csv = pd.read_csv(path,index_col=0)"
   ]
  },
  {
   "cell_type": "code",
   "execution_count": 26,
   "metadata": {
    "collapsed": true
   },
   "outputs": [],
   "source": [
    "df = pd.DataFrame(csv)"
   ]
  },
  {
   "cell_type": "code",
   "execution_count": null,
   "metadata": {
    "collapsed": false
   },
   "outputs": [],
   "source": []
  },
  {
   "cell_type": "code",
   "execution_count": 27,
   "metadata": {
    "collapsed": true
   },
   "outputs": [],
   "source": [
    "text_array = df.loc[:,'text']"
   ]
  },
  {
   "cell_type": "code",
   "execution_count": 28,
   "metadata": {
    "collapsed": true
   },
   "outputs": [],
   "source": [
    "seen = set()\n",
    "ans = []"
   ]
  },
  {
   "cell_type": "code",
   "execution_count": 29,
   "metadata": {
    "collapsed": true
   },
   "outputs": [],
   "source": [
    "for item in s:\n",
    "    if item[1] not in seen:\n",
    "        ans.append(item)\n",
    "        seen.add(item[1])"
   ]
  },
  {
   "cell_type": "code",
   "execution_count": 30,
   "metadata": {
    "collapsed": false
   },
   "outputs": [
    {
     "name": "stdout",
     "output_type": "stream",
     "text": [
      "$: dollar\n",
      "    $ -$ --$ A$ C$ HK$ M$ NZ$ S$ U.S.$ US$\n",
      "'': closing quotation mark\n",
      "    ' ''\n",
      "(: opening parenthesis\n",
      "    ( [ {\n",
      "): closing parenthesis\n",
      "    ) ] }\n",
      ",: comma\n",
      "    ,\n",
      "--: dash\n",
      "    --\n",
      ".: sentence terminator\n",
      "    . ! ?\n",
      ":: colon or ellipsis\n",
      "    : ; ...\n",
      "CC: conjunction, coordinating\n",
      "    & 'n and both but either et for less minus neither nor or plus so\n",
      "    therefore times v. versus vs. whether yet\n",
      "CD: numeral, cardinal\n",
      "    mid-1890 nine-thirty forty-two one-tenth ten million 0.5 one forty-\n",
      "    seven 1987 twenty '79 zero two 78-degrees eighty-four IX '60s .025\n",
      "    fifteen 271,124 dozen quintillion DM2,000 ...\n",
      "DT: determiner\n",
      "    all an another any both del each either every half la many much nary\n",
      "    neither no some such that the them these this those\n",
      "EX: existential there\n",
      "    there\n",
      "FW: foreign word\n",
      "    gemeinschaft hund ich jeux habeas Haementeria Herr K'ang-si vous\n",
      "    lutihaw alai je jour objets salutaris fille quibusdam pas trop Monte\n",
      "    terram fiche oui corporis ...\n",
      "IN: preposition or conjunction, subordinating\n",
      "    astride among uppon whether out inside pro despite on by throughout\n",
      "    below within for towards near behind atop around if like until below\n",
      "    next into if beside ...\n",
      "JJ: adjective or numeral, ordinal\n",
      "    third ill-mannered pre-war regrettable oiled calamitous first separable\n",
      "    ectoplasmic battery-powered participatory fourth still-to-be-named\n",
      "    multilingual multi-disciplinary ...\n",
      "JJR: adjective, comparative\n",
      "    bleaker braver breezier briefer brighter brisker broader bumper busier\n",
      "    calmer cheaper choosier cleaner clearer closer colder commoner costlier\n",
      "    cozier creamier crunchier cuter ...\n",
      "JJS: adjective, superlative\n",
      "    calmest cheapest choicest classiest cleanest clearest closest commonest\n",
      "    corniest costliest crassest creepiest crudest cutest darkest deadliest\n",
      "    dearest deepest densest dinkiest ...\n",
      "LS: list item marker\n",
      "    A A. B B. C C. D E F First G H I J K One SP-44001 SP-44002 SP-44005\n",
      "    SP-44007 Second Third Three Two * a b c d first five four one six three\n",
      "    two\n",
      "MD: modal auxiliary\n",
      "    can cannot could couldn't dare may might must need ought shall should\n",
      "    shouldn't will would\n",
      "NN: noun, common, singular or mass\n",
      "    common-carrier cabbage knuckle-duster Casino afghan shed thermostat\n",
      "    investment slide humour falloff slick wind hyena override subhumanity\n",
      "    machinist ...\n",
      "NNP: noun, proper, singular\n",
      "    Motown Venneboerger Czestochwa Ranzer Conchita Trumplane Christos\n",
      "    Oceanside Escobar Kreisler Sawyer Cougar Yvette Ervin ODI Darryl CTCA\n",
      "    Shannon A.K.C. Meltex Liverpool ...\n",
      "NNPS: noun, proper, plural\n",
      "    Americans Americas Amharas Amityvilles Amusements Anarcho-Syndicalists\n",
      "    Andalusians Andes Andruses Angels Animals Anthony Antilles Antiques\n",
      "    Apache Apaches Apocrypha ...\n",
      "NNS: noun, common, plural\n",
      "    undergraduates scotches bric-a-brac products bodyguards facets coasts\n",
      "    divestitures storehouses designs clubs fragrances averages\n",
      "    subjectivists apprehensions muses factory-jobs ...\n",
      "PDT: pre-determiner\n",
      "    all both half many quite such sure this\n",
      "POS: genitive marker\n",
      "    ' 's\n",
      "PRP: pronoun, personal\n",
      "    hers herself him himself hisself it itself me myself one oneself ours\n",
      "    ourselves ownself self she thee theirs them themselves they thou thy us\n",
      "PRP$: pronoun, possessive\n",
      "    her his mine my our ours their thy your\n",
      "RB: adverb\n",
      "    occasionally unabatingly maddeningly adventurously professedly\n",
      "    stirringly prominently technologically magisterially predominately\n",
      "    swiftly fiscally pitilessly ...\n",
      "RBR: adverb, comparative\n",
      "    further gloomier grander graver greater grimmer harder harsher\n",
      "    healthier heavier higher however larger later leaner lengthier less-\n",
      "    perfectly lesser lonelier longer louder lower more ...\n",
      "RBS: adverb, superlative\n",
      "    best biggest bluntest earliest farthest first furthest hardest\n",
      "    heartiest highest largest least less most nearest second tightest worst\n",
      "RP: particle\n",
      "    aboard about across along apart around aside at away back before behind\n",
      "    by crop down ever fast for forth from go high i.e. in into just later\n",
      "    low more off on open out over per pie raising start teeth that through\n",
      "    under unto up up-pp upon whole with you\n",
      "SYM: symbol\n",
      "    % & ' '' ''. ) ). * + ,. < = > @ A[fj] U.S U.S.S.R * ** ***\n",
      "TO: \"to\" as preposition or infinitive marker\n",
      "    to\n",
      "UH: interjection\n",
      "    Goodbye Goody Gosh Wow Jeepers Jee-sus Hubba Hey Kee-reist Oops amen\n",
      "    huh howdy uh dammit whammo shucks heck anyways whodunnit honey golly\n",
      "    man baby diddle hush sonuvabitch ...\n",
      "VB: verb, base form\n",
      "    ask assemble assess assign assume atone attention avoid bake balkanize\n",
      "    bank begin behold believe bend benefit bevel beware bless boil bomb\n",
      "    boost brace break bring broil brush build ...\n",
      "VBD: verb, past tense\n",
      "    dipped pleaded swiped regummed soaked tidied convened halted registered\n",
      "    cushioned exacted snubbed strode aimed adopted belied figgered\n",
      "    speculated wore appreciated contemplated ...\n",
      "VBG: verb, present participle or gerund\n",
      "    telegraphing stirring focusing angering judging stalling lactating\n",
      "    hankerin' alleging veering capping approaching traveling besieging\n",
      "    encrypting interrupting erasing wincing ...\n",
      "VBN: verb, past participle\n",
      "    multihulled dilapidated aerosolized chaired languished panelized used\n",
      "    experimented flourished imitated reunifed factored condensed sheared\n",
      "    unsettled primed dubbed desired ...\n",
      "VBP: verb, present tense, not 3rd person singular\n",
      "    predominate wrap resort sue twist spill cure lengthen brush terminate\n",
      "    appear tend stray glisten obtain comprise detest tease attract\n",
      "    emphasize mold postpone sever return wag ...\n",
      "VBZ: verb, present tense, 3rd person singular\n",
      "    bases reconstructs marks mixes displeases seals carps weaves snatches\n",
      "    slumps stretches authorizes smolders pictures emerges stockpiles\n",
      "    seduces fizzes uses bolsters slaps speaks pleads ...\n",
      "WDT: WH-determiner\n",
      "    that what whatever which whichever\n",
      "WP: WH-pronoun\n",
      "    that what whatever whatsoever which who whom whosoever\n",
      "WP$: WH-pronoun, possessive\n",
      "    whose\n",
      "WRB: Wh-adverb\n",
      "    how however whence whenever where whereby whereever wherein whereof why\n",
      "``: opening quotation mark\n",
      "    ` ``\n"
     ]
    }
   ],
   "source": [
    "nt.help.upenn_tagset()"
   ]
  },
  {
   "cell_type": "code",
   "execution_count": 36,
   "metadata": {
    "collapsed": false
   },
   "outputs": [],
   "source": [
    "sent = 'No smoking area allow hookas inside'\n",
    "#sent1 = 'I shot an elephant in my pajamas'\n",
    "sent1 = 'I lifted an elephant with a hand'"
   ]
  },
  {
   "cell_type": "code",
   "execution_count": null,
   "metadata": {
    "collapsed": true
   },
   "outputs": [],
   "source": []
  }
 ],
 "metadata": {
  "kernelspec": {
   "display_name": "Python 3",
   "language": "python",
   "name": "python3"
  },
  "language_info": {
   "codemirror_mode": {
    "name": "ipython",
    "version": 3
   },
   "file_extension": ".py",
   "mimetype": "text/x-python",
   "name": "python",
   "nbconvert_exporter": "python",
   "pygments_lexer": "ipython3",
   "version": "3.6.0"
  }
 },
 "nbformat": 4,
 "nbformat_minor": 2
}
